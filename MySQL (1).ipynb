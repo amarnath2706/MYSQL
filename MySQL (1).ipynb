{
 "cells": [
  {
   "cell_type": "code",
   "execution_count": 2,
   "metadata": {},
   "outputs": [
    {
     "name": "stdout",
     "output_type": "stream",
     "text": [
      "Requirement already satisfied: mysql-connector-python in d:\\anaconda3\\lib\\site-packages (8.0.21)\n",
      "Requirement already satisfied: protobuf>=3.0.0 in d:\\anaconda3\\lib\\site-packages (from mysql-connector-python) (3.13.0)\n",
      "Requirement already satisfied: six>=1.9 in d:\\anaconda3\\lib\\site-packages (from protobuf>=3.0.0->mysql-connector-python) (1.12.0)\n",
      "Requirement already satisfied: setuptools in d:\\anaconda3\\lib\\site-packages (from protobuf>=3.0.0->mysql-connector-python) (41.4.0)\n"
     ]
    }
   ],
   "source": [
    "#install the package to make a bridge between the python and MYSQL\n",
    "! pip install mysql-connector-python"
   ]
  },
  {
   "cell_type": "code",
   "execution_count": 4,
   "metadata": {},
   "outputs": [
    {
     "data": {
      "text/plain": [
       "<mysql.connector.connection.MySQLConnection at 0x18215452e88>"
      ]
     },
     "execution_count": 4,
     "metadata": {},
     "output_type": "execute_result"
    }
   ],
   "source": [
    "#import the mysqlconnector and check whether the connection is established or not. \n",
    "import mysql.connector as connection\n",
    "mydb = connection.connect(host='localhost', user = 'root', passwd = 'Jasvee@20', use_pure = True)\n",
    "mydb"
   ]
  },
  {
   "cell_type": "code",
   "execution_count": 6,
   "metadata": {},
   "outputs": [
    {
     "data": {
      "text/plain": [
       "[('amar',),\n",
       " ('amarnath',),\n",
       " ('information_schema',),\n",
       " ('jasvee_adithri',),\n",
       " ('mysql',),\n",
       " ('performance_schema',),\n",
       " ('sakila',),\n",
       " ('sys',),\n",
       " ('world',)]"
      ]
     },
     "execution_count": 6,
     "metadata": {},
     "output_type": "execute_result"
    }
   ],
   "source": [
    "#Show list of database\n",
    "#Create Cursor - It just creating the pointer and it starts or pointing on the initial place of the first index.\n",
    "cur = mydb.cursor()\n",
    "cur.execute(\"show databases\")\n",
    "res = cur.fetchall()\n",
    "res"
   ]
  },
  {
   "cell_type": "code",
   "execution_count": 7,
   "metadata": {},
   "outputs": [
    {
     "data": {
      "text/plain": [
       "('jasvee_adithri',)"
      ]
     },
     "execution_count": 7,
     "metadata": {},
     "output_type": "execute_result"
    }
   ],
   "source": [
    "#fetch the particular database\n",
    "res[3]"
   ]
  },
  {
   "cell_type": "code",
   "execution_count": 8,
   "metadata": {},
   "outputs": [
    {
     "data": {
      "text/plain": [
       "'jasvee_adithri'"
      ]
     },
     "execution_count": 8,
     "metadata": {},
     "output_type": "execute_result"
    }
   ],
   "source": [
    "res[3][0]"
   ]
  },
  {
   "cell_type": "code",
   "execution_count": 9,
   "metadata": {},
   "outputs": [
    {
     "name": "stdout",
     "output_type": "stream",
     "text": [
      "amar\n",
      "amarnath\n",
      "information_schema\n",
      "jasvee_adithri\n",
      "mysql\n",
      "performance_schema\n",
      "sakila\n",
      "sys\n",
      "world\n"
     ]
    }
   ],
   "source": [
    "for i in res:\n",
    "    print(i[0])"
   ]
  },
  {
   "cell_type": "code",
   "execution_count": 11,
   "metadata": {},
   "outputs": [
    {
     "name": "stdout",
     "output_type": "stream",
     "text": [
      "[('amar',), ('amarnath',), ('information_schema',), ('jasvee_adithri',), ('mysql',), ('performance_schema',), ('sakila',), ('sys',), ('world',)]\n"
     ]
    }
   ],
   "source": [
    "#Try except\n",
    "import mysql.connector as connection\n",
    "\n",
    "try:\n",
    "    mydb = connection.connect(host='localhost', user = 'root', passwd = 'Jasvee@20', use_pure = True)\n",
    "    query = 'SHOW DATABASES'\n",
    "    cursor = mydb.cursor()\n",
    "    cursor.execute(query)\n",
    "    #Fetchall\n",
    "    print(cursor.fetchall())\n",
    "except Exception as e:\n",
    "    #close the connection\n",
    "    mydb.close()\n",
    "    print(str(e))"
   ]
  },
  {
   "cell_type": "code",
   "execution_count": 14,
   "metadata": {},
   "outputs": [
    {
     "name": "stdout",
     "output_type": "stream",
     "text": [
      "True\n",
      "Database created\n"
     ]
    }
   ],
   "source": [
    "#Create a new database\n",
    "import mysql.connector as connection\n",
    "\n",
    "try:\n",
    "    mydb = connection.connect(host='localhost', user = 'root', passwd = 'Jasvee@20', use_pure = True)\n",
    "    #Check if the connection is established or not\n",
    "    print(mydb.is_connected())\n",
    "    \n",
    "    query1 = 'Create database JAjas;'\n",
    "    cursor1 = mydb.cursor()\n",
    "    cursor1.execute(query1)\n",
    "    #print(cursor1.fetchall())\n",
    "    print(\"Database created\")\n",
    "except Exception as e:\n",
    "    mydb.close()\n",
    "    print(str(e))"
   ]
  },
  {
   "cell_type": "code",
   "execution_count": 16,
   "metadata": {},
   "outputs": [
    {
     "name": "stdout",
     "output_type": "stream",
     "text": [
      "True\n",
      "Table Created\n"
     ]
    }
   ],
   "source": [
    "#Create a table inside the database\n",
    "import mysql.connector as connection\n",
    "\n",
    "try:\n",
    "    #Add one parameter - database\n",
    "    mydb = connection.connect(host='localhost',user='root',passwd='Jasvee@20',database='jajas',use_pure=True)\n",
    "    #Check if the connection is established or not\n",
    "    print(mydb.is_connected())\n",
    "    \n",
    "    query2 = 'Create table jasdet (StudentId INT(10), FirstName Varchar(30), LastName varchar(30), Class varchar(10), Section varchar(5))'\n",
    "    cursor2 = mydb.cursor()\n",
    "    cursor2.execute(query2)\n",
    "    print('Table Created')\n",
    "\n",
    "except Exception as e:\n",
    "    mydb.close()\n",
    "    print(str(e))\n",
    "    "
   ]
  },
  {
   "cell_type": "code",
   "execution_count": 19,
   "metadata": {},
   "outputs": [
    {
     "name": "stdout",
     "output_type": "stream",
     "text": [
      "True\n",
      "Values are inserted successfully\n"
     ]
    }
   ],
   "source": [
    "#Insert values into the table\n",
    "import mysql.connector as connection\n",
    "\n",
    "try:\n",
    "    mydb = connection.connect(host='localhost',user='root',passwd='Jasvee@20',database='jajas',use_pure=True)\n",
    "    print(mydb.is_connected())\n",
    "    \n",
    "    query3 = \"INSERT INTO jasdet VALUES (20,'Jasvee','Adithri','MBBS','A')\" #date - yyyy-mm-dd\n",
    "    cursor3 = mydb.cursor()\n",
    "    cursor3.execute(query3)\n",
    "    print('Values are inserted successfully')\n",
    "    #Commit \n",
    "    mydb.commit()\n",
    "    mydb.close()\n",
    "except Exception as e:\n",
    "    mydb.close()\n",
    "    print(str(e))"
   ]
  },
  {
   "cell_type": "code",
   "execution_count": 21,
   "metadata": {},
   "outputs": [
    {
     "name": "stdout",
     "output_type": "stream",
     "text": [
      "True\n",
      "(20, 'Jasvee', 'Adithri', 'MBBS', 'A')\n",
      "(20, 'Jasvee', 'Adithri', 'MBBS', 'A')\n"
     ]
    }
   ],
   "source": [
    "#Fetch the data from the table\n",
    "import mysql.connector as connection\n",
    "\n",
    "try:\n",
    "    mydb = connection.connect(host='localhost',user='root',passwd='Jasvee@20',database='jajas',use_pure=True)\n",
    "    print(mydb.is_connected())\n",
    "    \n",
    "    query4 = \"SELECT * FROM jasdet\"\n",
    "    cursor4 = mydb.cursor()\n",
    "    cursor4.execute(query4)\n",
    "    for result in cursor4.fetchall():\n",
    "        print(result)\n",
    "        \n",
    "    mydb.close()\n",
    "    \n",
    "except Exception as e:\n",
    "    mydb.close()\n",
    "    print(str(e))"
   ]
  },
  {
   "cell_type": "code",
   "execution_count": 23,
   "metadata": {},
   "outputs": [
    {
     "name": "stdout",
     "output_type": "stream",
     "text": [
      "True\n",
      "('Jasvee', 'Adithri')\n",
      "('Jasvee', 'Adithri')\n"
     ]
    }
   ],
   "source": [
    "#Fetch the Specific data or column from the table\n",
    "import mysql.connector as connection\n",
    "\n",
    "try:\n",
    "    mydb = connection.connect(host='localhost',user='root',passwd='Jasvee@20',database='jajas',use_pure=True)\n",
    "    print(mydb.is_connected())\n",
    "    \n",
    "    query5 = \"SELECT FirstName, LastName from jasdet\"\n",
    "    cursor5 = mydb.cursor()\n",
    "    cursor5.execute(query5)\n",
    "    for result in cursor5.fetchall():\n",
    "        print(result)\n",
    "        \n",
    "    mydb.close()\n",
    "    \n",
    "except Exception as e:\n",
    "    mydb.close()\n",
    "    print(str(e))"
   ]
  },
  {
   "cell_type": "code",
   "execution_count": 24,
   "metadata": {},
   "outputs": [
    {
     "name": "stdout",
     "output_type": "stream",
     "text": [
      "True\n",
      "Values are updated successfully\n"
     ]
    }
   ],
   "source": [
    "#Update the value\n",
    "import mysql.connector as connection\n",
    "\n",
    "try:\n",
    "    mydb = connection.connect(host='localhost',user='root',passwd='Jasvee@20',database='jajas',use_pure=True)\n",
    "    print(mydb.is_connected())\n",
    "    \n",
    "    query6 = \"UPDATE jasdet set FirstName = 'JASVEE', LastName =  'ADITHRI' WHERE StudentId = 20\"\n",
    "    cursor6=mydb.cursor()\n",
    "    cursor6.execute(query6)\n",
    "    mydb.commit()\n",
    "    print(\"Values are updated successfully\")\n",
    "    mydb.close()\n",
    "    \n",
    "except Exception as e:\n",
    "    mydb.close()\n",
    "    print(str(e))"
   ]
  },
  {
   "cell_type": "code",
   "execution_count": 25,
   "metadata": {},
   "outputs": [
    {
     "name": "stdout",
     "output_type": "stream",
     "text": [
      "True\n",
      "Deleted successfully\n"
     ]
    }
   ],
   "source": [
    "#Delete the value\n",
    "import mysql.connector as connection\n",
    "\n",
    "try:\n",
    "    mydb = connection.connect(host='localhost',user='root',passwd='Jasvee@20',database='jajas',use_pure=True)\n",
    "    print(mydb.is_connected())\n",
    "    \n",
    "    query6 = \"DELETE FROM jasdet WHERE StudentId = 22\"\n",
    "    cursor6=mydb.cursor()\n",
    "    cursor6.execute(query6)\n",
    "    mydb.commit()\n",
    "    print(\"Deleted successfully\")\n",
    "    mydb.close()\n",
    "    \n",
    "except Exception as e:\n",
    "    mydb.close()\n",
    "    print(str(e))"
   ]
  },
  {
   "cell_type": "code",
   "execution_count": 28,
   "metadata": {},
   "outputs": [
    {
     "name": "stdout",
     "output_type": "stream",
     "text": [
      "Requirement already satisfied: pandas in d:\\anaconda3\\lib\\site-packages (1.3.2)\n",
      "Requirement already satisfied: numpy>=1.17.3 in d:\\anaconda3\\lib\\site-packages (from pandas) (1.20.3)\n",
      "Requirement already satisfied: pytz>=2017.3 in d:\\anaconda3\\lib\\site-packages (from pandas) (2019.3)\n",
      "Requirement already satisfied: python-dateutil>=2.7.3 in d:\\anaconda3\\lib\\site-packages (from pandas) (2.8.0)\n",
      "Requirement already satisfied: six>=1.5 in d:\\anaconda3\\lib\\site-packages (from python-dateutil>=2.7.3->pandas) (1.12.0)\n"
     ]
    }
   ],
   "source": [
    "! pip install pandas"
   ]
  },
  {
   "cell_type": "code",
   "execution_count": 29,
   "metadata": {},
   "outputs": [
    {
     "name": "stdout",
     "output_type": "stream",
     "text": [
      "True\n",
      "   StudentId FirstName LastName Class Section\n",
      "0         20    JASVEE  ADITHRI  MBBS       A\n",
      "1         20    JASVEE  ADITHRI  MBBS       A\n",
      "2         21        Ja  Adithri   MBA       B\n"
     ]
    }
   ],
   "source": [
    "#Show the data's in the form of Table format\n",
    "import mysql.connector as connection\n",
    "import pandas as pd\n",
    "\n",
    "try:\n",
    "    mydb = connection.connect(host='localhost',user='root',passwd='Jasvee@20',database='jajas',use_pure=True)\n",
    "    print(mydb.is_connected())\n",
    "    \n",
    "    query7 = \"SELECT * FROM jasdet\"\n",
    "    result_dataframe = pd.read_sql(query7,mydb)\n",
    "    print(result_dataframe)\n",
    "        \n",
    "    mydb.close()\n",
    "    \n",
    "except Exception as e:\n",
    "    mydb.close()\n",
    "    print(str(e))"
   ]
  },
  {
   "cell_type": "code",
   "execution_count": 30,
   "metadata": {},
   "outputs": [
    {
     "data": {
      "text/html": [
       "<div>\n",
       "<style scoped>\n",
       "    .dataframe tbody tr th:only-of-type {\n",
       "        vertical-align: middle;\n",
       "    }\n",
       "\n",
       "    .dataframe tbody tr th {\n",
       "        vertical-align: top;\n",
       "    }\n",
       "\n",
       "    .dataframe thead th {\n",
       "        text-align: right;\n",
       "    }\n",
       "</style>\n",
       "<table border=\"1\" class=\"dataframe\">\n",
       "  <thead>\n",
       "    <tr style=\"text-align: right;\">\n",
       "      <th></th>\n",
       "      <th>StudentId</th>\n",
       "      <th>FirstName</th>\n",
       "      <th>LastName</th>\n",
       "      <th>Class</th>\n",
       "      <th>Section</th>\n",
       "    </tr>\n",
       "  </thead>\n",
       "  <tbody>\n",
       "    <tr>\n",
       "      <th>0</th>\n",
       "      <td>20</td>\n",
       "      <td>JASVEE</td>\n",
       "      <td>ADITHRI</td>\n",
       "      <td>MBBS</td>\n",
       "      <td>A</td>\n",
       "    </tr>\n",
       "    <tr>\n",
       "      <th>1</th>\n",
       "      <td>20</td>\n",
       "      <td>JASVEE</td>\n",
       "      <td>ADITHRI</td>\n",
       "      <td>MBBS</td>\n",
       "      <td>A</td>\n",
       "    </tr>\n",
       "    <tr>\n",
       "      <th>2</th>\n",
       "      <td>21</td>\n",
       "      <td>Ja</td>\n",
       "      <td>Adithri</td>\n",
       "      <td>MBA</td>\n",
       "      <td>B</td>\n",
       "    </tr>\n",
       "  </tbody>\n",
       "</table>\n",
       "</div>"
      ],
      "text/plain": [
       "   StudentId FirstName LastName Class Section\n",
       "0         20    JASVEE  ADITHRI  MBBS       A\n",
       "1         20    JASVEE  ADITHRI  MBBS       A\n",
       "2         21        Ja  Adithri   MBA       B"
      ]
     },
     "execution_count": 30,
     "metadata": {},
     "output_type": "execute_result"
    }
   ],
   "source": [
    "result_dataframe"
   ]
  },
  {
   "cell_type": "code",
   "execution_count": 31,
   "metadata": {},
   "outputs": [],
   "source": [
    "#Save the record in CSV format\n",
    "result_dataframe.to_csv('Eg.csv')"
   ]
  },
  {
   "cell_type": "code",
   "execution_count": 34,
   "metadata": {},
   "outputs": [
    {
     "name": "stdout",
     "output_type": "stream",
     "text": [
      "True\n",
      "Execution failed on sql 'SELECT name FROM sqlite_master WHERE type='table' AND name=?;': Not all parameters were used in the SQL statement\n"
     ]
    }
   ],
   "source": [
    "#Insert the CSV records to the another table\n",
    "import mysql.connector as connection\n",
    "\n",
    "try:\n",
    "    #Add one parameter - database\n",
    "    mydb = connection.connect(host='localhost',user='root',passwd='Jasvee@20',database='jajas',use_pure=True)\n",
    "    #Check if the connection is established or not\n",
    "    print(mydb.is_connected())\n",
    "    \n",
    "    query8 = 'Create table jasdetails1 (StudentId INT(10), FirstName Varchar(30), LastName varchar(30), Class varchar(10), Section varchar(5))'\n",
    "    cursor8 = mydb.cursor()\n",
    "    cursor8.execute(query8)\n",
    "    csv_data = pd.read_csv('Eg.csv')\n",
    "    #Give table name and connection database name \n",
    "    csv_data.to_sql('jasdetails1',mydb)\n",
    "    mydb.commit()\n",
    "    print('Table Created')\n",
    "    mydb.closese()\n",
    "\n",
    "except Exception as e:\n",
    "    mydb.close()\n",
    "    print(str(e))"
   ]
  },
  {
   "cell_type": "code",
   "execution_count": 37,
   "metadata": {},
   "outputs": [
    {
     "name": "stdout",
     "output_type": "stream",
     "text": [
      "True\n",
      "Database Created!!\n",
      "Table Created!!\n",
      "Values inserted!!\n"
     ]
    }
   ],
   "source": [
    "#CSV to SQL\n",
    "import mysql.connector as connection\n",
    "import pandas as pandas\n",
    "import csv\n",
    "\n",
    "try:\n",
    "    mydb = connection.connect(host=\"localhost\", user=\"root\", passwd=\"Jasvee@20\",use_pure=True)\n",
    "    #check if the connection is established\n",
    "    print(mydb.is_connected())\n",
    "    #create a new database\n",
    "    query = \"Create database GlassData;\"\n",
    "    cursor = mydb.cursor() #create a cursor to execute queries\n",
    "    cursor.execute(query)\n",
    "    print(\"Database Created!!\")\n",
    "    mydb.close() #close the connection\n",
    "\n",
    "    #Establish a new connection to the database created above\n",
    "    mydb = connection.connect(host=\"localhost\", database = 'GlassData',user=\"root\", passwd=\"Jasvee@20\", use_pure=True)\n",
    "\n",
    "    #create a new table to store glass data\n",
    "    query = \"CREATE TABLE IF NOT EXISTS GlassData (Index_Number INT(10),RI float(10,5), Na float(10,5), Mg float(10,5),Al float(10,5),\" \\\n",
    "            \" Si float(10,5), K float(10,5), Ca float(10,5), Ba float(10,5), Fe float(10,5), Class INT(5))\"\n",
    "    cursor = mydb.cursor()  # create a cursor to execute queries\n",
    "    cursor.execute(query)\n",
    "    print(\"Table Created!!\")\n",
    "\n",
    "    #read from the file\n",
    "    with open('glass.data', \"r\") as f:\n",
    "        next(f)\n",
    "        glass_data = csv.reader(f, delimiter=\"\\n\")\n",
    "        for line in enumerate(glass_data):\n",
    "            for list_ in (line[1]):\n",
    "                cursor.execute('INSERT INTO GlassData values ({values})'.format(values=(list_)))\n",
    "    print(\"Values inserted!!\")\n",
    "    mydb.commit()\n",
    "    cursor.close()\n",
    "    mydb.close()\n",
    "\n",
    "except Exception as e:\n",
    "    #mydb.close()\n",
    "    print(str(e))"
   ]
  },
  {
   "cell_type": "code",
   "execution_count": null,
   "metadata": {},
   "outputs": [],
   "source": []
  }
 ],
 "metadata": {
  "kernelspec": {
   "display_name": "Python 3",
   "language": "python",
   "name": "python3"
  },
  "language_info": {
   "codemirror_mode": {
    "name": "ipython",
    "version": 3
   },
   "file_extension": ".py",
   "mimetype": "text/x-python",
   "name": "python",
   "nbconvert_exporter": "python",
   "pygments_lexer": "ipython3",
   "version": "3.7.4"
  }
 },
 "nbformat": 4,
 "nbformat_minor": 2
}
